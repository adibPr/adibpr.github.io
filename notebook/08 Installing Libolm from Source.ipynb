{
 "cells": [
  {
   "cell_type": "raw",
   "id": "a24f2695-8d9a-43e0-8224-e63aa0bdf503",
   "metadata": {},
   "source": [
    "---\n",
    "title: Installing libolm From Source \n",
    "author: Adib Pratama\n",
    "draft: false\n",
    "date: 2021-11-09\n",
    "tags: [selfhosted]\n",
    "id: 8\n",
    "---"
   ]
  },
  {
   "cell_type": "markdown",
   "id": "f1a29dc2-e1b6-4f1d-80e7-0b8212e198cf",
   "metadata": {},
   "source": [
    "I stumble upon this great tool called [matrix-commander](https://github.com/8go/matrix-commander) that I think is the simplest way to programmatically interact with your [Matrix](https://matrix.org/) server.\n",
    "I'm using these tools in order to send notifications from my server to my matrix room whenever something interesting happens (i.e when my backup is done, or when someone login to my server).\n",
    "It is based on matrix-nio, and only a large single file python.\n",
    "But I found one of the dependencies, [libolm](https://gitlab.matrix.org/matrix-org/olm), is quite difficult to install (especially in my raspberry pi).\n",
    "They do have a package in pip, but it's only for python version 2.\n",
    "Here is what I do to build this library from source."
   ]
  },
  {
   "cell_type": "markdown",
   "id": "330c7247",
   "metadata": {},
   "source": [
    "## Installation\n",
    "\n",
    "1. Clone the repo, `git clone https://gitlab.matrix.org/matrix-org/olm`\n",
    "2. Build the library like the documentation says:\n",
    "```bash\n",
    "cmake . -Bbuild\n",
    "cmake --build build\n",
    "```\n",
    "3. Go to build directory, and you will find `libolm.so.3.2.6` along with it's sym link. Copy that to permanent location, like `/usr/local/lib`.\n",
    "4. Optionally: you could check the content of the build with command `nm -D -C -g libolm.so.3.2.6`, make sure we have olm related function defined.\n",
    "5. Now it's time to build the python binding. Go to python folder (on the root folder of olm). Set `LD_LIBRARY_PATH` to the path of your olm library permanent location, i.e:\n",
    "```\n",
    "export LD_LIBRARY_PATH=$LD_LIBRARY_PATH:/usr/local/lib\n",
    "```\n",
    "6. Install the package by `make DESTDIR=/ install-python3`. Note about DESTDIR, for some reason, in my case, the root directory isn't included.\n",
    "7. You can test this by trying `import olm` in your python."
   ]
  },
  {
   "cell_type": "markdown",
   "id": "b494da12",
   "metadata": {},
   "source": [
    "## Debugging\n",
    "\n",
    "Use this commands to start debuging if something wrong happens:\n",
    "* `nm -D -C -g module.so` to list the required function inside an object, and whether it's present or not.\n",
    "* When installing python package, you could see the shared object output in build directory, find a file called `_libolm.abi3.so`. You can inspect the required module by using `ldd module.so`. Make sure the required module are present."
   ]
  }
 ],
 "metadata": {
  "kernelspec": {
   "display_name": "Python 3 (ipykernel)",
   "language": "python",
   "name": "python3"
  },
  "language_info": {
   "codemirror_mode": {
    "name": "ipython",
    "version": 3
   },
   "file_extension": ".py",
   "mimetype": "text/x-python",
   "name": "python",
   "nbconvert_exporter": "python",
   "pygments_lexer": "ipython3",
   "version": "3.7.3"
  }
 },
 "nbformat": 4,
 "nbformat_minor": 5
}
