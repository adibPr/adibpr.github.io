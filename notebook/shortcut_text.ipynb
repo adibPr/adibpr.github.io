{
 "cells": [
  {
   "cell_type": "raw",
   "id": "ac78d81b",
   "metadata": {},
   "source": [
    "---\n",
    "title: Shortcut to Capture Ideas\n",
    "author: Adib Pratama\n",
    "draft: false\n",
    "date: 2021-08-23\n",
    "id: 6\n",
    "---"
   ]
  },
  {
   "cell_type": "markdown",
   "id": "d5eb788f",
   "metadata": {},
   "source": [
    "One common theme from the majority of productivity articles/books that I read is to never let use your brain to store information.\n",
    "Use it to generate new ideas, to solve a problem, to think.\n",
    "\n",
    "\n",
    "But here is the thing: Sometimes when you are in a state of deep work, focusing on a task at hand, you might suddenly remember other tasks that you need to do later, or you might get an idea for other things that might not be related to your current task.\n",
    "You don't want to break down from your deep work state, but you also don't want to store those to-do/new information in your brain that might be forgotten 30 minutes later.\n",
    "For these, you need a system that could allow you to store those sudden information easily and quickly. \n",
    "I personally, use a text editor.\n",
    "\n",
    "But to open a text editor program and then writing the idea down, and then saving and exiting the editor seems to be quite a repetitive process. \n",
    "I want to create a shortcut that automatically opens the editor and creates a new file for me.\n",
    "This is what I have in my setup."
   ]
  },
  {
   "cell_type": "markdown",
   "id": "5b3a7b25",
   "metadata": {},
   "source": [
    "## Linux\n",
    "\n",
    "For linux, it's easy. All I need to do is just create a bash script that will open a text editor (I'm using vim) with timestamp as the filename.\n",
    "The code is like this\n",
    "\n",
    "```bash\n",
    "#!/bin/bash\n",
    "DIRECTORY=/home/adib/notes\n",
    "FNAME=$DIRECTORY/`date +'%F %T %N' | sed s/:/-/g`\n",
    "EDITOR=\"vim -c 'startinsert'\"\n",
    "TERMINAL=\"mate-terminal\"\n",
    "\n",
    "$TERMINAL -e \"$EDITOR \\\"$FNAME\\\"\"\n",
    "```\n",
    "Put it into somewhere that are accessible via `$PATH`.\n",
    "\n",
    "Next, I just create a shortcut (for example Wn + n) to automatically run this program.\n",
    "Since I'm using [i3](https://i3wm.org/), I just put it in my config file, with line:\n",
    "\n",
    "```\n",
    "bindsym $mod_cmd+n exec --no-startup-id qnote & \n",
    "```\n",
    "\n",
    "And you are done.\n",
    "For other desktop environments, you might want to consult your desktop documentation or search on Google."
   ]
  },
  {
   "cell_type": "markdown",
   "id": "7fa9d21c",
   "metadata": {},
   "source": [
    "## Windows"
   ]
  },
  {
   "cell_type": "markdown",
   "id": "d57e9724",
   "metadata": {},
   "source": [
    "I'm not really familiar with Windows scripting, so I gather some information from the internet to achieve the same functionality with the bash script above.\n",
    "The basic step is the same, create the script and set the shortcut to quickly run that script.\n",
    "\n",
    "```vbscript\n",
    "@echo off\n",
    "For /f \"tokens=1-3 delims=/ \" %%a in ('date /t') do (set mydate=%%c-%%a-%%b)\n",
    "For /f \"tokens=1-2 delims=/:\" %%a in ('time /t') do (set mytime=%%a-%%b)\n",
    "\n",
    "set folder=D:\\notes\\\n",
    "set fname=%folder%%mydate% %mytime%\n",
    "echo %fname%\n",
    "echo. > \"%fname%\"\n",
    "start notepad.exe \"%fname%\".\n",
    "```\n",
    "The above script doesn't produce the same filename format as the bash script and also it always creates a new file even though you didn't save anything (i.e run the script, quit the app directly). Unlike the bash script where if you didn't save anything, no files are created.\n",
    "\n",
    "\n",
    "To set up the sortcut is a little bit tricky. The best solution I came across is to use a third party application called [autohotkey](https://www.autohotkey.com/). \n",
    "After you install it, set up an autohotkey script (with extension .ahk) with content:\n",
    "\n",
    "```\n",
    "﻿#NoEnv \n",
    "SendMode Input\n",
    "SetWorkingDir %A_ScriptDir% \n",
    "\n",
    "#n::\n",
    "\tRun, \"D:\\bin\\notes.bat\"\n",
    "\treturn\n",
    "```\n",
    "\n",
    "and then put the script into the [startup directory](https://www.autohotkey.com/docs/FAQ.htm#Startup), and viola, you are done.\n"
   ]
  },
  {
   "cell_type": "markdown",
   "id": "be49a945",
   "metadata": {},
   "source": [
    "Now you have a way to capture your ideas, your to-dos, and anything that capture your attention. \n",
    "All you need is just to click `Wn+N`, and an editor will be opened for you.\n",
    "The next step might be to synch them (notes from Windows and Linux). You could use Google Drive or [syncthing](https://syncthing.net/) if you have a private server to sync with. "
   ]
  }
 ],
 "metadata": {
  "kernelspec": {
   "display_name": "Python 3 (ipykernel)",
   "language": "python",
   "name": "python3"
  },
  "language_info": {
   "codemirror_mode": {
    "name": "ipython",
    "version": 3
   },
   "file_extension": ".py",
   "mimetype": "text/x-python",
   "name": "python",
   "nbconvert_exporter": "python",
   "pygments_lexer": "ipython3",
   "version": "3.7.3"
  }
 },
 "nbformat": 4,
 "nbformat_minor": 5
}
