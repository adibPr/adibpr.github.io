{
 "cells": [
  {
   "cell_type": "raw",
   "id": "61cf45c2",
   "metadata": {},
   "source": [
    "---\n",
    "title: Simple Backup with Borgmatic\n",
    "author: Adib Pratama\n",
    "draft: false\n",
    "date: 2022-10-01\n",
    "tags: [borg, selfhosted]\n",
    "id: 20221001\n",
    "---"
   ]
  },
  {
   "cell_type": "markdown",
   "id": "c87fc7de",
   "metadata": {},
   "source": [
    "I'm a self-hosted person, I own a VPS and have installed some applications that I use in my day-to-day activities.\n",
    "Those apps (like chat server, using [Matrix](https://matrix.org/)) are becoming a part of my life, and losing the data that's been there will be disastrous for me.\n",
    "Hence, backup is a must thing to do.\n",
    "\n",
    "Doing backup isn't that hard, especially if we use the right tools.\n",
    "For the past few years, I've been using [borg](https://www.borgbackup.org/) as a tool for doing backup of all my computer-related data. It's a simple and easy-to-use tool. And combine with [borgmatic](https://torsion.org/borgmatic/), a program on top of borg to make the backup process even easier, backing up a whole data, both from a database and from the file, is as simple as running one command. Borgmatic use a configuration file to do the whole process. Here is my simple configuration that I used on regular basis.\n",
    "\n",
    "**Folder Structure**\n",
    "\n",
    "Before moving on to the configuration, I'd like to share the folder structure of my system.\n",
    "I normally have 2 folders in the home folder, the `backup` folder and the `borg` folder.\n",
    "\n",
    "```\n",
    "-/home/me\n",
    "--- backup/\n",
    "--- borg/\n",
    "```\n",
    "\n",
    "The `backup` folder is a regular folder, that contains all the things that I want to backup.\n",
    "For example, my `nginx` configuration is in here (the whole `/etc/nginx` folder), and then I link it to the `/etc`. The same with my wireguard configuration folder. \n",
    "This is all my configurations, scripts, data, and anything that I want to backup.\n",
    "\n",
    "The second folder, `borg`, is a borg repository. Borg works by creating a repository and adding data to it. This is where your backup data will be, but not in the same format. You can't directly look into this folder. Borg doing some magical things to compress your data and to remember your past data, so it could only update whenever new/updated data is being saved. To create a borg repo with a password, you could use the command:\n",
    "`borg init --encryption=repokey ~/borg/`."
   ]
  },
  {
   "cell_type": "markdown",
   "id": "f8d1e4dd",
   "metadata": {},
   "source": [
    "**Configuration**\n",
    "\n",
    "In the `backup` folder, apart from the things that I want to back up, I also put my borgmatic configuration in here.\n",
    "In most cases, my borgmatic configuration is pretty simple, with only 5-6 things that need to be set up.\n",
    "Borgmatic itself uses YAML data format for its configuration, so it's easy to understand."
   ]
  },
  {
   "cell_type": "markdown",
   "id": "d6aacca9",
   "metadata": {},
   "source": [
    "```yaml\n",
    "location:\n",
    "    source_directories:\n",
    "        - /home/me/backup\n",
    "    repositories:\n",
    "        - /home/me/borg\n",
    "\n",
    "storage:\n",
    "    encryption_passphrase: \"mYl1Tl3SecR3T\"\n",
    "    borg_base_directory: /home/me/\n",
    "    archive_name_format: 'auto-{now:%Y-%m-%d}'\n",
    "\n",
    "retention:\n",
    "    keep_weekly: 2\n",
    "    keep_monthly: 3\n",
    "    prefix: auto\n",
    "\n",
    "consistency:\n",
    "    prefix: auto\n",
    "\n",
    "hooks:\n",
    "    before_backup:\n",
    "        - echo \"Starting a backup.\"\n",
    "    after_backup:\n",
    "        - echo \"Finished a backup.\"\n",
    "    on_error:\n",
    "        - echo \"Error during prune/compact/create/check.\"\n",
    "    after_everything:\n",
    "        - rclone sync --progress /home/me/borg/ S3:/backup/borg/\n",
    "```\n"
   ]
  },
  {
   "cell_type": "markdown",
   "id": "a54cef61",
   "metadata": {},
   "source": [
    "The first thing that you need to specify is the location of the folder we want to backup and the repository.\n",
    "With my structure, this means the `~/backup` and `~/borg` folder.\n",
    "\n",
    "The second one is the repository configuration, like the password we are using in the repository and the name of the archive. Here, for the archive name, I'm using the prefix `auto-`.\n",
    "\n",
    "Next is retention, how many archives we would like to keep. For example, in the configuration above, I want to have 2 weekly archive, and 3 monthly archive. So if for the new week, I already have 2 weeks of archive, the borgmatic will automatically prune/delete the oldest one.\n",
    "\n",
    "After setting the prefix for consistency check, the last one is to set up a hook. A hook is a command that will be run in several stages. Here, I create a command to be run before backup, after backup, on an error, and after everything.\n",
    "For the sample above, the command is quite simple, just echoing something. But in some cases, you could add a more complex thing. For example, in before_backup, I normally have a command to dump my Postgres database into the `backup` folder, so it could be backed up as well.\n",
    "\n",
    "And also, the after everything hooks, I set up a [rclone](https://rclone.org/) process to copy the `borg` folder to somewhere else, like in an S3. \n",
    "This will help me in case of hard disk failure, where I could not retrieve the local `borg` repository, then I still have the data on the cloud."
   ]
  },
  {
   "cell_type": "markdown",
   "id": "4c1da3f0",
   "metadata": {},
   "source": [
    "Finally, after the configuration is done, you could do the backup by running: `borgmatic -c borgmatic_config.yaml`."
   ]
  }
 ],
 "metadata": {
  "kernelspec": {
   "display_name": "Python 3 (ipykernel)",
   "language": "python",
   "name": "python3"
  },
  "language_info": {
   "codemirror_mode": {
    "name": "ipython",
    "version": 3
   },
   "file_extension": ".py",
   "mimetype": "text/x-python",
   "name": "python",
   "nbconvert_exporter": "python",
   "pygments_lexer": "ipython3",
   "version": "3.9.7"
  }
 },
 "nbformat": 4,
 "nbformat_minor": 5
}
