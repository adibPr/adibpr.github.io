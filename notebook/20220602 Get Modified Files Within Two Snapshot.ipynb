{
 "cells": [
  {
   "cell_type": "raw",
   "id": "eca591ab-fd71-42b7-b4fd-ab8916a1dc57",
   "metadata": {},
   "source": [
    "---\n",
    "title: Get Modified Files Within Two Snapshot\n",
    "author: Adib Pratama\n",
    "draft: false\n",
    "date: 2022-06-02\n",
    "tags: [project, python]\n",
    "id: 20220602\n",
    "---"
   ]
  },
  {
   "cell_type": "markdown",
   "id": "b3dec041-501e-4f72-8e62-965c31d7d062",
   "metadata": {},
   "source": [
    "To make my blogging habit a little bit easier, I create a tool to easily convert my jupyter notebooks to markdown that could be parsed into [Hugo](https://gohugo.io/), called [pynote2mds3](https://github.com/adibPr/pynote2mds3/) that use `nbconvert` to convert and upload any image into S3. However, I soon find out that I need to manually run this command for each of my new posts and I kind of looking for a way to automate that. The solution is using `make`."
   ]
  },
  {
   "cell_type": "markdown",
   "id": "26d37b69-c028-478a-8a1e-811568f6756a",
   "metadata": {},
   "source": [
    "`make` is a great and flexible tool. I've been using Linux for quite some time, and have been interacting with makefile and cmake before but only as a user. I never actually write a Makefile until recently and was blown away by its usefulness and its simplicity. For this blog, I simply create an entry in my makefile to convert all modified/new notebooks to markdown using my tool."
   ]
  },
  {
   "cell_type": "markdown",
   "id": "9e88c6de-a7a4-444a-b4b2-aafebece57b0",
   "metadata": {},
   "source": [
    "But the problem is I need a way to filter files that are only modified, or new in my notebooks directory. We do not want to reprocess all unchanged files. I tried looking for another simple solution, like using Linux command `find` to find all files that are being modified in the last _n_ minutes, but that is still not enough for my need. Then as a challenge, I decided to write a simple script to accomplish that.\n",
    "\n",
    "The idea is to use [watchdog](https://pythonhosted.org/watchdog/) dirsnapshot function to create a snapshot of a folder, and compare it to the previous snapshot.\\\n",
    "Using watchdog, we could create a snapshot of a directory with command: \n",
    "```python\n",
    "snapshot=DirectorySnapshot(path)\n",
    "```\n",
    "\n",
    "and if you have two snapshot, you can get the difference (i.e files that are modified in one snapshot compare to the others) by using `DirectorySnapshotDiff` function:\n",
    "```python\n",
    "diff = DirectorySnapshotDiff(old_snapshot, new_snapshot)\n",
    "final_data = diff.files_created + diff.files_modified\n",
    "```"
   ]
  },
  {
   "cell_type": "markdown",
   "id": "e63e9ce0-8b99-435e-a764-e9590687a0c8",
   "metadata": {},
   "source": [
    "With this final list of files, I then could pipe it into my converter tools to create the markdown. Now I don't have to type one by one the filename of my notes, I just call `make note` to convert all my modified/new notes into markdown. Simple right?\\\n",
    "You can see my code for this diff in: [my gist](https://gist.github.com/adibPr/5ae61b5f5aa2b3fa64aa0e1d57f9abe0)"
   ]
  }
 ],
 "metadata": {
  "kernelspec": {
   "display_name": "Python 3 (ipykernel)",
   "language": "python",
   "name": "python3"
  },
  "language_info": {
   "codemirror_mode": {
    "name": "ipython",
    "version": 3
   },
   "file_extension": ".py",
   "mimetype": "text/x-python",
   "name": "python",
   "nbconvert_exporter": "python",
   "pygments_lexer": "ipython3",
   "version": "3.9.7"
  }
 },
 "nbformat": 4,
 "nbformat_minor": 5
}
