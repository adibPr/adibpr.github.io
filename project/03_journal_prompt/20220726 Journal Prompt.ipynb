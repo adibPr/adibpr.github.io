{
 "cells": [
  {
   "cell_type": "raw",
   "id": "c243841a",
   "metadata": {},
   "source": [
    "---\n",
    "title: Simple Daily Journal Prompt\n",
    "author: Adib Pratama\n",
    "draft: false\n",
    "date: 2022-07-26\n",
    "tags: [project, journal]\n",
    "id: 20220726\n",
    "---"
   ]
  },
  {
   "cell_type": "markdown",
   "id": "6014ba51",
   "metadata": {},
   "source": [
    "Over the past few years, I've developed a daily writing habit in my note-taking apps (I'm currently using Notion, having migrated from Evernote a few months ago). At first, I just write my daily feeling, what negative or positive emotions I currently feel, and the source of them. It helps me meditate on my life. Sometimes I even come up with a good quote or self-advice.\n",
    "\n",
    "But writing about feeling alone might be boring sometimes, so I started to look for something different. I come up with a daily prompt, which is a set of questions that you could pick randomly each day and start exploring answers from that.\n",
    "It's super fun for me since I might spend the day wandering about the question. It's not the question itself, but rather where the question takes me. Sometimes it takes me to the future, asking about my ideal life, sometime in the past, asking about my painful memory. It's random every day, so I could learn a few things every day.\n",
    "\n",
    "I've collected such questions from several sources online and compiled it into one. I created a program (and a simple web app) that could give me a random question every day to be copied into my notion page. You could find the code in [here](https://app.pradib.my.id/gogs/adib/journal_prompt), or access the web app in [here](https://app.pradib.my.id/journal_prompt/).\n",
    "\n",
    "Below is the screenshot of the web app. You can simply click the icon to copy it to your clipboard."
   ]
  },
  {
   "cell_type": "markdown",
   "id": "a1e7e330",
   "metadata": {},
   "source": [
    "!['cover.png'](cover.png)"
   ]
  },
  {
   "cell_type": "code",
   "execution_count": null,
   "id": "86d7030d",
   "metadata": {},
   "outputs": [],
   "source": []
  }
 ],
 "metadata": {
  "kernelspec": {
   "display_name": "Python 3 (ipykernel)",
   "language": "python",
   "name": "python3"
  },
  "language_info": {
   "codemirror_mode": {
    "name": "ipython",
    "version": 3
   },
   "file_extension": ".py",
   "mimetype": "text/x-python",
   "name": "python",
   "nbconvert_exporter": "python",
   "pygments_lexer": "ipython3",
   "version": "3.9.7"
  }
 },
 "nbformat": 4,
 "nbformat_minor": 5
}
